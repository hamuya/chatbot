{
  "nbformat": 4,
  "nbformat_minor": 0,
  "metadata": {
    "colab": {
      "provenance": [],
      "authorship_tag": "ABX9TyNqjjjsp0Cy0RXpHaEFPxVF",
      "include_colab_link": true
    },
    "kernelspec": {
      "name": "python3",
      "display_name": "Python 3"
    },
    "language_info": {
      "name": "python"
    }
  },
  "cells": [
    {
      "cell_type": "markdown",
      "metadata": {
        "id": "view-in-github",
        "colab_type": "text"
      },
      "source": [
        "<a href=\"https://colab.research.google.com/github/hamuya/chatbot/blob/main/tetorisu.ipynb\" target=\"_parent\"><img src=\"https://colab.research.google.com/assets/colab-badge.svg\" alt=\"Open In Colab\"/></a>"
      ]
    },
    {
      "cell_type": "code",
      "source": [
        "from google.colab import drive\n",
        "drive.mount('/content/drive')\n"
      ],
      "metadata": {
        "colab": {
          "base_uri": "https://localhost:8080/"
        },
        "id": "QJGdi8PMIUeD",
        "outputId": "dc21e70b-65da-47e0-f8ef-c05473797779"
      },
      "execution_count": null,
      "outputs": [
        {
          "output_type": "stream",
          "name": "stdout",
          "text": [
            "Mounted at /content/drive\n"
          ]
        }
      ]
    },
    {
      "cell_type": "code",
      "execution_count": null,
      "metadata": {
        "colab": {
          "base_uri": "https://localhost:8080/",
          "height": 708
        },
        "id": "SuwUe7VsILqy",
        "outputId": "46b04cba-59d5-4aab-a04a-15bdf2abb976"
      },
      "outputs": [
        {
          "output_type": "stream",
          "name": "stdout",
          "text": [
            "Cargo 5 (size (3, 2)) could not be placed.\n",
            "Final truck bed configuration:\n",
            "[[1 1 2 6]\n",
            " [1 1 2 0]\n",
            " [0 0 2 0]\n",
            " [3 3 3 3]\n",
            " [4 4 4 0]\n",
            " [4 4 4 0]]\n"
          ]
        },
        {
          "output_type": "display_data",
          "data": {
            "text/plain": [
              "<Figure size 800x600 with 2 Axes>"
            ],
            "image/png": "[encoded data removed]"
          },
          "metadata": {}
        }
      ],
      "source": [
        "import numpy as np\n",
        "import matplotlib.pyplot as plt\n",
        "\n",
        "# 定数の設定\n",
        "TRUCK_HEIGHT = 6  # 荷台の縦\n",
        "TRUCK_WIDTH = 4   # 荷台の横\n",
        "\n",
        "# 荷物のサイズリスト (縦, 横)\n",
        "# 例: [(2, 2), (3, 1), (1, 4), ...]\n",
        "CARGO_LIST = [\n",
        "    (2, 2), (3, 1), (1, 4), (2, 3), (3, 2), (1, 1)\n",
        "]\n",
        "\n",
        "# トラック荷台の初期化\n",
        "truck_bed = np.zeros((TRUCK_HEIGHT, TRUCK_WIDTH), dtype=int)\n",
        "\n",
        "# 荷物を積む関数\n",
        "def place_cargo(truck_bed, cargo, cargo_id):\n",
        "    \"\"\"\n",
        "    荷物をトラック荷台に置く\n",
        "\n",
        "    Args:\n",
        "        truck_bed: 2D numpy array representing the truck bed\n",
        "        cargo: Tuple of (height, width) for the cargo\n",
        "        cargo_id: ID to mark the cargo in the truck bed\n",
        "\n",
        "    Returns:\n",
        "        bool: True if placed successfully, False otherwise\n",
        "    \"\"\"\n",
        "    cargo_height, cargo_width = cargo\n",
        "\n",
        "    for row in range(TRUCK_HEIGHT - cargo_height + 1):\n",
        "        for col in range(TRUCK_WIDTH - cargo_width + 1):\n",
        "            # 配置可能か確認\n",
        "            if np.all(truck_bed[row:row + cargo_height, col:col + cargo_width] == 0):\n",
        "                # 荷物を配置\n",
        "                truck_bed[row:row + cargo_height, col:col + cargo_width] = cargo_id\n",
        "                return True\n",
        "\n",
        "    return False\n",
        "\n",
        "# 荷物を順に積む\n",
        "for cargo_id, cargo in enumerate(CARGO_LIST, start=1):\n",
        "    if not place_cargo(truck_bed, cargo, cargo_id):\n",
        "        print(f\"Cargo {cargo_id} (size {cargo}) could not be placed.\")\n",
        "\n",
        "# 結果の表示\n",
        "print(\"Final truck bed configuration:\")\n",
        "print(truck_bed)\n",
        "\n",
        "# 視覚的に表示する関数\n",
        "def visualize_truck_bed(truck_bed):\n",
        "    plt.figure(figsize=(8, 6))\n",
        "    plt.imshow(truck_bed, cmap=\"tab20\", extent=[0, TRUCK_WIDTH, 0, TRUCK_HEIGHT])\n",
        "    plt.colorbar(label=\"Cargo ID\")\n",
        "    plt.title(\"Truck Bed Configuration\")\n",
        "    plt.xlabel(\"Width\")\n",
        "    plt.ylabel(\"Height\")\n",
        "    plt.grid(which=\"both\", color=\"black\", linestyle=\"-\", linewidth=0.5)\n",
        "    plt.xticks(range(TRUCK_WIDTH + 1))\n",
        "    plt.yticks(range(TRUCK_HEIGHT + 1))\n",
        "    plt.show()\n",
        "\n",
        "# 視覚的に表示\n",
        "visualize_truck_bed(truck_bed)\n"
      ]
    },
    {
      "cell_type": "code",
      "source": [
        "import numpy as np\n",
        "import matplotlib.pyplot as plt\n",
        "\n",
        "# 定数の設定\n",
        "TRUCK_HEIGHT = 6  # 荷台の縦\n",
        "TRUCK_WIDTH = 4   # 荷台の横\n",
        "\n",
        "# 荷物のサイズリスト (縦, 横)\n",
        "# ユーザーが入力できるように変更\n",
        "print(\"Enter the dimensions of the cargos (height, width). Type 'done' when finished:\")\n",
        "CARGO_LIST = []\n",
        "while True:\n",
        "    user_input = input(\"Cargo (height,width): \")\n",
        "    if user_input.lower() == 'done':\n",
        "        break\n",
        "    try:\n",
        "        height, width = map(int, user_input.split(\",\"))\n",
        "        if height > 0 and width > 0:\n",
        "            CARGO_LIST.append((height, width))\n",
        "        else:\n",
        "            print(\"Dimensions must be positive integers.\")\n",
        "    except ValueError:\n",
        "        print(\"Invalid input. Please enter two integers separated by a comma.\")\n",
        "\n",
        "# トラック荷台の初期化\n",
        "truck_bed = np.zeros((TRUCK_HEIGHT, TRUCK_WIDTH), dtype=int)\n",
        "\n",
        "# 荷物を積む関数\n",
        "def place_cargo(truck_bed, cargo, cargo_id):\n",
        "    \"\"\"\n",
        "    荷物をトラック荷台に置く\n",
        "\n",
        "    Args:\n",
        "        truck_bed: 2D numpy array representing the truck bed\n",
        "        cargo: Tuple of (height, width) for the cargo\n",
        "        cargo_id: ID to mark the cargo in the truck bed\n",
        "\n",
        "    Returns:\n",
        "        bool: True if placed successfully, False otherwise\n",
        "    \"\"\"\n",
        "    cargo_height, cargo_width = cargo\n",
        "\n",
        "    for row in range(TRUCK_HEIGHT - cargo_height + 1):\n",
        "        for col in range(TRUCK_WIDTH - cargo_width + 1):\n",
        "            # 配置可能か確認\n",
        "            if np.all(truck_bed[row:row + cargo_height, col:col + cargo_width] == 0):\n",
        "                # 荷物を配置\n",
        "                truck_bed[row:row + cargo_height, col:col + cargo_width] = cargo_id\n",
        "                return True\n",
        "\n",
        "    return False\n",
        "\n",
        "# 荷物を順に積む\n",
        "for cargo_id, cargo in enumerate(CARGO_LIST, start=1):\n",
        "    if not place_cargo(truck_bed, cargo, cargo_id):\n",
        "        print(f\"Cargo {cargo_id} (size {cargo}) could not be placed.\")\n",
        "\n",
        "# 結果の表示\n",
        "print(\"Final truck bed configuration:\")\n",
        "print(truck_bed)\n",
        "\n",
        "# 視覚的に表示する関数\n",
        "def visualize_truck_bed(truck_bed):\n",
        "    plt.figure(figsize=(8, 6))\n",
        "    plt.imshow(truck_bed, cmap=\"tab20\", extent=[0, TRUCK_WIDTH, 0, TRUCK_HEIGHT])\n",
        "    plt.colorbar(label=\"Cargo ID\")\n",
        "    plt.title(\"Truck Bed Configuration\")\n",
        "    plt.xlabel(\"Width\")\n",
        "    plt.ylabel(\"Height\")\n",
        "    plt.grid(which=\"both\", color=\"black\", linestyle=\"-\", linewidth=0.5)\n",
        "    plt.xticks(range(TRUCK_WIDTH + 1))\n",
        "    plt.yticks(range(TRUCK_HEIGHT + 1))\n",
        "    plt.show()\n",
        "\n",
        "# 視覚的に表示\n",
        "visualize_truck_bed(truck_bed)\n"
      ],
      "metadata": {
        "id": "a8MBYRr8J1jc"
      },
      "execution_count": null,
      "outputs": []
    }
  ]
}